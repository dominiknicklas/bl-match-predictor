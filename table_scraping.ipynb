{
 "cells": [
  {
   "cell_type": "code",
   "execution_count": 1,
   "id": "0f16f5b0-720f-4d46-8dcb-ded8e9f3c5fe",
   "metadata": {},
   "outputs": [
    {
     "name": "stdout",
     "output_type": "stream",
     "text": [
      "Requirement already satisfied: cloudscraper in /opt/anaconda3/lib/python3.12/site-packages (1.2.71)\n",
      "Requirement already satisfied: pyparsing>=2.4.7 in /opt/anaconda3/lib/python3.12/site-packages (from cloudscraper) (3.1.2)\n",
      "Requirement already satisfied: requests>=2.9.2 in /opt/anaconda3/lib/python3.12/site-packages (from cloudscraper) (2.32.3)\n",
      "Requirement already satisfied: requests-toolbelt>=0.9.1 in /opt/anaconda3/lib/python3.12/site-packages (from cloudscraper) (1.0.0)\n",
      "Requirement already satisfied: charset-normalizer<4,>=2 in /opt/anaconda3/lib/python3.12/site-packages (from requests>=2.9.2->cloudscraper) (3.3.2)\n",
      "Requirement already satisfied: idna<4,>=2.5 in /opt/anaconda3/lib/python3.12/site-packages (from requests>=2.9.2->cloudscraper) (3.7)\n",
      "Requirement already satisfied: urllib3<3,>=1.21.1 in /opt/anaconda3/lib/python3.12/site-packages (from requests>=2.9.2->cloudscraper) (2.2.3)\n",
      "Requirement already satisfied: certifi>=2017.4.17 in /opt/anaconda3/lib/python3.12/site-packages (from requests>=2.9.2->cloudscraper) (2024.8.30)\n"
     ]
    }
   ],
   "source": [
    "!pip install cloudscraper"
   ]
  },
  {
   "cell_type": "code",
   "execution_count": 3,
   "id": "801579ff-07b4-4795-957b-ded42797d609",
   "metadata": {},
   "outputs": [],
   "source": [
    "import cloudscraper\n",
    "import pandas as pd\n",
    "from io import StringIO\n",
    "import time\n",
    "import random"
   ]
  },
  {
   "cell_type": "code",
   "execution_count": 5,
   "id": "10c4d5b0-e94a-4c66-9088-7ac5b884248e",
   "metadata": {},
   "outputs": [],
   "source": [
    "years = list(range(2024, 2017, -1))"
   ]
  },
  {
   "cell_type": "code",
   "execution_count": 7,
   "id": "2db99f51-95b9-4310-8b7f-43ab0b5a5f10",
   "metadata": {},
   "outputs": [],
   "source": [
    "table_urls = [f\"https://www.fussballdaten.de/bundesliga/{year}/tabelle/\" for year in years]"
   ]
  },
  {
   "cell_type": "code",
   "execution_count": 9,
   "id": "dff3c499-646d-4c9e-94d1-03b940e34793",
   "metadata": {},
   "outputs": [
    {
     "data": {
      "text/plain": [
       "['https://www.fussballdaten.de/bundesliga/2024/tabelle/',\n",
       " 'https://www.fussballdaten.de/bundesliga/2023/tabelle/',\n",
       " 'https://www.fussballdaten.de/bundesliga/2022/tabelle/',\n",
       " 'https://www.fussballdaten.de/bundesliga/2021/tabelle/',\n",
       " 'https://www.fussballdaten.de/bundesliga/2020/tabelle/',\n",
       " 'https://www.fussballdaten.de/bundesliga/2019/tabelle/',\n",
       " 'https://www.fussballdaten.de/bundesliga/2018/tabelle/']"
      ]
     },
     "execution_count": 9,
     "metadata": {},
     "output_type": "execute_result"
    }
   ],
   "source": [
    "table_urls"
   ]
  },
  {
   "cell_type": "code",
   "execution_count": 11,
   "id": "6b8994fc-d1a5-4569-bce9-810766f7498a",
   "metadata": {},
   "outputs": [],
   "source": [
    "scraper = cloudscraper.create_scraper()"
   ]
  },
  {
   "cell_type": "code",
   "execution_count": 13,
   "id": "d229b916-c7b8-402d-a86f-55fb2532b8a4",
   "metadata": {},
   "outputs": [],
   "source": [
    "for year in years:\n",
    "    table_url = f\"https://www.fussballdaten.de/bundesliga/{year}/tabelle/\"\n",
    "    data = scraper.get(table_url)\n",
    "    html_data = StringIO(data.text)\n",
    "    table = pd.read_html(html_data)[0]\n",
    "    table.rename(columns={\"Pl.\": \"rank\", \"Mannschaft\": \"team\", \"Diff.\": \"goal_diff\", \"Pkt\": \"points\"}, inplace=True)\n",
    "    table = table[[\"team\", \"rank\", \"goal_diff\", \"points\"]]\n",
    "    table[\"season\"] = year\n",
    "    # season 23/24 = 24 -- season 22/23 = 23 ...\n",
    "    table.to_csv(f\"tables/table_{year}.csv\")\n",
    "    time.sleep(random.uniform(4,8))"
   ]
  }
 ],
 "metadata": {
  "kernelspec": {
   "display_name": "Python [conda env:base] *",
   "language": "python",
   "name": "conda-base-py"
  },
  "language_info": {
   "codemirror_mode": {
    "name": "ipython",
    "version": 3
   },
   "file_extension": ".py",
   "mimetype": "text/x-python",
   "name": "python",
   "nbconvert_exporter": "python",
   "pygments_lexer": "ipython3",
   "version": "3.12.7"
  }
 },
 "nbformat": 4,
 "nbformat_minor": 5
}
