{
 "cells": [
  {
   "cell_type": "code",
   "execution_count": 96,
   "id": "e18c38b1-e50c-4169-b329-26064715fe63",
   "metadata": {},
   "outputs": [
    {
     "name": "stdout",
     "output_type": "stream",
     "text": [
      "Requirement already satisfied: cloudscraper in /opt/anaconda3/lib/python3.12/site-packages (1.2.71)\n",
      "Requirement already satisfied: pyparsing>=2.4.7 in /opt/anaconda3/lib/python3.12/site-packages (from cloudscraper) (3.1.2)\n",
      "Requirement already satisfied: requests>=2.9.2 in /opt/anaconda3/lib/python3.12/site-packages (from cloudscraper) (2.32.3)\n",
      "Requirement already satisfied: requests-toolbelt>=0.9.1 in /opt/anaconda3/lib/python3.12/site-packages (from cloudscraper) (1.0.0)\n",
      "Requirement already satisfied: charset-normalizer<4,>=2 in /opt/anaconda3/lib/python3.12/site-packages (from requests>=2.9.2->cloudscraper) (3.3.2)\n",
      "Requirement already satisfied: idna<4,>=2.5 in /opt/anaconda3/lib/python3.12/site-packages (from requests>=2.9.2->cloudscraper) (3.7)\n",
      "Requirement already satisfied: urllib3<3,>=1.21.1 in /opt/anaconda3/lib/python3.12/site-packages (from requests>=2.9.2->cloudscraper) (2.2.3)\n",
      "Requirement already satisfied: certifi>=2017.4.17 in /opt/anaconda3/lib/python3.12/site-packages (from requests>=2.9.2->cloudscraper) (2024.8.30)\n"
     ]
    }
   ],
   "source": [
    "!pip install cloudscraper"
   ]
  },
  {
   "cell_type": "code",
   "execution_count": 98,
   "id": "dff129ce-2fef-4c06-9dde-cda22eb6861e",
   "metadata": {},
   "outputs": [],
   "source": [
    "import cloudscraper\n",
    "import pandas as pd\n",
    "from io import StringIO\n",
    "import time\n",
    "import random"
   ]
  },
  {
   "cell_type": "code",
   "execution_count": 100,
   "id": "8d356038-8a75-4d16-a1cc-87c6e05ea100",
   "metadata": {},
   "outputs": [],
   "source": [
    "years = list(range(2024, 2019, -1))"
   ]
  },
  {
   "cell_type": "code",
   "execution_count": 102,
   "id": "a13079aa-b2a5-485e-be2b-e30fd1e1d0d7",
   "metadata": {},
   "outputs": [],
   "source": [
    "scraper = cloudscraper.create_scraper()"
   ]
  },
  {
   "cell_type": "code",
   "execution_count": 104,
   "id": "64647406-da4a-408d-8673-af1fdd33caa2",
   "metadata": {},
   "outputs": [],
   "source": [
    "table_urls = [f\"https://www.transfermarkt.de/bundesliga/startseite/wettbewerb/L1/plus/?saison_id={year}\" for year in years]"
   ]
  },
  {
   "cell_type": "code",
   "execution_count": 106,
   "id": "5b4dd0a0-7215-41cb-8acc-0e3cdbb44c2d",
   "metadata": {},
   "outputs": [
    {
     "data": {
      "text/plain": [
       "['https://www.transfermarkt.de/bundesliga/startseite/wettbewerb/L1/plus/?saison_id=2024',\n",
       " 'https://www.transfermarkt.de/bundesliga/startseite/wettbewerb/L1/plus/?saison_id=2023',\n",
       " 'https://www.transfermarkt.de/bundesliga/startseite/wettbewerb/L1/plus/?saison_id=2022',\n",
       " 'https://www.transfermarkt.de/bundesliga/startseite/wettbewerb/L1/plus/?saison_id=2021',\n",
       " 'https://www.transfermarkt.de/bundesliga/startseite/wettbewerb/L1/plus/?saison_id=2020']"
      ]
     },
     "execution_count": 106,
     "metadata": {},
     "output_type": "execute_result"
    }
   ],
   "source": [
    "table_urls"
   ]
  },
  {
   "cell_type": "code",
   "execution_count": 80,
   "id": "de4a469b-23fb-4b06-a0f3-e78400959ba9",
   "metadata": {},
   "outputs": [],
   "source": [
    "data = scraper.get(table_urls[1])"
   ]
  },
  {
   "cell_type": "code",
   "execution_count": null,
   "id": "7e9c63e1-83e0-4046-812e-42591ab14472",
   "metadata": {},
   "outputs": [],
   "source": [
    "data.text"
   ]
  },
  {
   "cell_type": "code",
   "execution_count": 84,
   "id": "e64ca521-9443-4be1-bff9-176dbdc2ac73",
   "metadata": {},
   "outputs": [],
   "source": [
    "html_data = StringIO(data.text)\n",
    "table = pd.read_html(html_data)[1]"
   ]
  },
  {
   "cell_type": "code",
   "execution_count": 88,
   "id": "7a23d834-660b-4c99-850f-8805c6783467",
   "metadata": {},
   "outputs": [],
   "source": [
    "table = table.drop(table.index[-1])"
   ]
  },
  {
   "cell_type": "code",
   "execution_count": 92,
   "id": "76bbeb98-50e3-46a7-837a-d56979fbadf8",
   "metadata": {},
   "outputs": [
    {
     "data": {
      "text/plain": [
       "Index(['Verein', 'Verein.1', 'name', 'Kader', 'ø-Alter', 'Legionäre',\n",
       "       'ø-Marktwert', 'Gesamtmarktwert'],\n",
       "      dtype='object')"
      ]
     },
     "execution_count": 92,
     "metadata": {},
     "output_type": "execute_result"
    }
   ],
   "source": [
    "table.columns"
   ]
  },
  {
   "cell_type": "code",
   "execution_count": null,
   "id": "60bd9910-a0bd-44e2-90da-a1b4e49ca661",
   "metadata": {},
   "outputs": [],
   "source": [
    "table.rename(columns={\"ø-Alter\": \"mean_age\", \"ø-Marktwert\": \"mean_value\", \"Verein.1\": \"team\"}, inplace=True)\n",
    "table = table[[\"team\", \"mean_age\", \"mean_value\"]]\n",
    "table"
   ]
  },
  {
   "cell_type": "code",
   "execution_count": 112,
   "id": "55602df7-f167-4224-9273-255aae74b8ff",
   "metadata": {},
   "outputs": [],
   "source": [
    "for year in years:\n",
    "    table_url = f\"https://www.transfermarkt.de/bundesliga/startseite/wettbewerb/L1/plus/?saison_id={year}\"\n",
    "    data = scraper.get(table_url)\n",
    "    html_text = StringIO(data.text)\n",
    "    table = pd.read_html(html_data)[1]\n",
    "    table = table.drop(table.index[-1])\n",
    "    table.rename(columns={\"ø-Alter\": \"mean_age\", \"ø-Marktwert\": \"mean_value\", \"Verein.1\": \"team\"}, inplace=True)\n",
    "    table = table[[\"team\", \"mean_age\", \"mean_value\"]]\n",
    "    table.to_csv(f\"team_values/values_{year}.csv\")\n",
    "    time.sleep(random.uniform(4,8))"
   ]
  }
 ],
 "metadata": {
  "kernelspec": {
   "display_name": "Python [conda env:base] *",
   "language": "python",
   "name": "conda-base-py"
  },
  "language_info": {
   "codemirror_mode": {
    "name": "ipython",
    "version": 3
   },
   "file_extension": ".py",
   "mimetype": "text/x-python",
   "name": "python",
   "nbconvert_exporter": "python",
   "pygments_lexer": "ipython3",
   "version": "3.12.7"
  }
 },
 "nbformat": 4,
 "nbformat_minor": 5
}
